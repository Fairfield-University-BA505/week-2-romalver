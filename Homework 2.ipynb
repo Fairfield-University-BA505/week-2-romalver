{
 "cells": [
  {
   "cell_type": "code",
   "execution_count": 1,
   "metadata": {},
   "outputs": [],
   "source": [
    "# Q1: Debugging Question\n",
    "# # What is wrong with following statement? How do your fix it?\n",
    "# my variable == 3\n",
    "# ANSWER: 'my variable' contains a space, a variable cannot contain a space. "
   ]
  },
  {
   "cell_type": "code",
   "execution_count": 2,
   "metadata": {},
   "outputs": [
    {
     "name": "stdin",
     "output_type": "stream",
     "text": [
      "Enter your first integer:  5\n",
      "Enter your second integer:  2\n"
     ]
    },
    {
     "name": "stdout",
     "output_type": "stream",
     "text": [
      "The sum is:  7\n",
      "The difference is:  3\n"
     ]
    }
   ],
   "source": [
    "# Q2: Coding Question\n",
    "# Ask the user (yourself) to enter two intergers, and print out the sum and difference of the two integers.\n",
    "\n",
    "# You need to make sure your program only take integers, so if a float is entered, it need to be converted to integers.\n",
    "# HINT: read PY4E pp. 25 - 26.\n",
    "# The expected output for your code is (you can use different numbers in your own code):\n",
    "# Enter your first integer: 10\n",
    "# Enter your second integer: 20\n",
    "# The sum is: 30\n",
    "# The difference is: -10\n",
    "    \n",
    "    \n",
    "# Complete/fix the code below.\n",
    "\n",
    "num1 = input('Enter your first integer: ')\n",
    "# Enter your first integer: 10\n",
    "\n",
    "num2 = input('Enter your second integer: ')\n",
    "# Enter your second integer: 20\n",
    "#print('The sum is: ', num1 + num2)\n",
    "# The sum is:  1020\n",
    "# print('The difference is:', num1 - num2)\n",
    "# ---------------------------------------------------------------------------\n",
    "# TypeError                                 Traceback (most recent call last)\n",
    "# <ipython-input-34-0718de384d49> in <module>\n",
    "# ----> 1 print('The difference is:', num1 - num2)\n",
    "\n",
    "# TypeError: unsupported operand type(s) for -: 'str' and 'str'\n",
    "#ANSWER: THe problem is with the print statement, it is trying to subtract two strings from each other. \n",
    "\n",
    "print('The sum is: ', int(num1) + int(num2))\n",
    "\n",
    "print('The difference is: ', int(num1) - int(num2))"
   ]
  },
  {
   "cell_type": "code",
   "execution_count": 50,
   "metadata": {},
   "outputs": [
    {
     "name": "stdin",
     "output_type": "stream",
     "text": [
      "What is the height of the Triangle? 5\n",
      "What is the base of the Triangle? 4\n"
     ]
    },
    {
     "name": "stdout",
     "output_type": "stream",
     "text": [
      "The Area of your triangle is:  10.0\n"
     ]
    }
   ],
   "source": [
    "# Compute the area of a triagle. From the geometry class we know the area of a triangle is computed via:\n",
    "\n",
    "# 𝐀𝐫𝐞𝐚=(ℎ𝑒𝑖𝑔ℎ𝑡𝑥𝑏𝑎𝑠𝑒)2 \n",
    "# Write your own code, with comments, to implement above equation.\n",
    "\n",
    "#First declare inputs that connect to variables and change them to int\n",
    "\n",
    "height = int(input(\"What is the height of the Triangle?\"))\n",
    "base = int(input(\"What is the base of the Triangle?\"))\n",
    "\n",
    "#Second create variable 'Area' which will equal to the formula of 'height' times 'base' raised to the second power\n",
    "area = (height*base)/2\n",
    "\n",
    "#Third Print your results with context\n",
    "print('The Area of your triangle is: ', area)"
   ]
  },
  {
   "cell_type": "code",
   "execution_count": 8,
   "metadata": {},
   "outputs": [],
   "source": [
    "# Chapter 3"
   ]
  },
  {
   "cell_type": "code",
   "execution_count": 9,
   "metadata": {},
   "outputs": [],
   "source": [
    "# Q1. Coding Problem\n",
    "# Check Factors:\n",
    "# Given four values, check if the first three values are factors of fourth value. Factor, in mathematics, \n",
    "# a number or algebraic expression that divides another number or expression evenly.\n",
    "\n",
    "# Example input/output:\n",
    "\n",
    "# 1, 2, 4, 8 -> Yes, 1, 2, 4 are all factors of 8.\n",
    "# 1, 2, 3, 9 -> No, 1, 2, 3 are not all factors of 9.\n",
    "# 1, 2, 50, 100 -> Yes, 1, 2, 50 are all factors of 100.\n",
    "# Use the code block below to write your program.\n"
   ]
  },
  {
   "cell_type": "code",
   "execution_count": 16,
   "metadata": {},
   "outputs": [
    {
     "name": "stdin",
     "output_type": "stream",
     "text": [
      "First number? 1\n",
      "Second number? 2\n",
      "Third number? 3\n",
      "Fourth number, the factor youre checking? 8\n"
     ]
    },
    {
     "name": "stdout",
     "output_type": "stream",
     "text": [
      " No,  1 ,  2 ,  3 are not all factors of  8\n"
     ]
    }
   ],
   "source": [
    "# ANSWER\n",
    "\n",
    "#Create input variables and convert them to ints\n",
    "num1 = int(input('First number?'))\n",
    "num2 = int(input('Second number?'))\n",
    "num3 = int(input('Third number?'))\n",
    "num4 = int(input('Fourth number, the factor youre checking?'))\n",
    "\n",
    "if num4 % num1 == 0 and num4 % num2 == 0 and num4 % num3 == 0:\n",
    "    print(\" Yes, \", num1, \", \", num2, \", \", num3, \"are all factors of \", num4)\n",
    "else:\n",
    "    print(\" No, \", num1, \", \", num2, \", \", num3, \"are not all factors of \", num4)"
   ]
  },
  {
   "cell_type": "code",
   "execution_count": 64,
   "metadata": {},
   "outputs": [
    {
     "name": "stdin",
     "output_type": "stream",
     "text": [
      "What is your grade my son? I will give you your grade for Tao's class 1000\n"
     ]
    },
    {
     "name": "stdout",
     "output_type": "stream",
     "text": [
      "Enter a Number between 0 and 100!\n"
     ]
    }
   ],
   "source": [
    "# Q2. Coding Problem\n",
    "# Grading scale:\n",
    "# Suppose a high school uses following grading scale:\n",
    "\n",
    "# Letter Grade\tPoint Range\n",
    "# A\t90 - 100\n",
    "# B\t80 - 89\n",
    "# C\t70 - 79\n",
    "# D\t60 - 69\n",
    "# F\t0 - 59\n",
    "# Write two programs, one using chained conditionals, the other using nested conditionals, to:\n",
    "\n",
    "\n",
    "'\n",
    "\n",
    "\n",
    "\n",
    "# Take the user input of a point grade;\n",
    "inputStudentGrade = input(\"What is your grade my son? I will give you your grade for Tao's class\")\n",
    "# if the input is not a number, or not in the range of [0, 100] then print 'Enter a legit point please!\n",
    "try: #try method to capture an input outside of a number\n",
    "    studentGrade = int(inputStudentGrade)\n",
    "    if studentGrade >= 0 and studentGrade <= 100: #method to check that input is between 0-100    \n",
    "        # Display the according letter grade using the table below; \n",
    "        if studentGrade >= 0 and studentGrade <= 59:\n",
    "            print(\"You got an F!\")\n",
    "        elif studentGrade >= 60 and studentGrade <= 69:\n",
    "            print(\"You got an D!\")\n",
    "        elif studentGrade >= 70 and studentGrade <= 79:\n",
    "            print(\"You got an C!\")\n",
    "        elif studentGrade >= 80 and studentGrade <= 89:\n",
    "            print(\"You got an B!\")\n",
    "        elif studentGrade >= 90 and studentGrade <= 100:\n",
    "            print(\"You got an A!\")\n",
    "    else:\n",
    "        print('Enter a Legit Grade Please!')\n",
    "except:\n",
    "    print('Enter a Legit Grade Please!')\n",
    "\n"
   ]
  },
  {
   "cell_type": "code",
   "execution_count": 49,
   "metadata": {},
   "outputs": [],
   "source": [
    "# Q3. Code Completion Question\n",
    "# Range of Third Edge\n",
    "# From geometry we know that for any triangle, lenthg of the third edge of the traingle falls into a certain range:\n",
    "\n",
    "# (edge1_len - edge2_len) + 1 <= edge3_len <= (edge1_len + edge2_len) - 1\n",
    "\n",
    "# In which, edge1_len is the length of the 1st edge, and so forth.\n",
    "\n",
    "# Complete/Fix the following program, so that it can:\n",
    "\n",
    "# Take user inputs of edge1_len and edge2_len\n",
    "# Print out the range of the third edge\n",
    "# If any of the input is not number, print out error 'Please only enter numeric values!'\n",
    "# # Take user input of edge 1\n",
    "# edge1_len = input('Please enter edge1 length: ')\n",
    "# edge2_len = input('Please enter edge2 length: ')\n",
    "# max_len = 0\n",
    "# min_len = 0\n",
    "# ​\n",
    "# ​\n",
    "# # complete code below\n",
    "# try:\n",
    "#     min_len = abs(edge1_len - egde2_len) + 1 # abs() takes the absolute value since the length cannot be negative\n",
    "#     max_len = #### Complete your code here\n",
    "#     print('Range of length of edge3 is: ', ####complete your code here)\n",
    "# except:\n",
    "#     print('Please only enter numeric values!')\n",
    "# Please enter edge1 length: 10\n",
    "# Please enter edge2 length: 2\n",
    "# Please only enter numeric values!"
   ]
  },
  {
   "cell_type": "code",
   "execution_count": 2,
   "metadata": {},
   "outputs": [
    {
     "name": "stdin",
     "output_type": "stream",
     "text": [
      "Please enter edge1 length:  4\n",
      "Please enter edge2 length:  5\n"
     ]
    },
    {
     "name": "stdout",
     "output_type": "stream",
     "text": [
      "Range of length of edge3 is:  6.0\n"
     ]
    }
   ],
   "source": [
    "# ANSWER\n",
    "# Take user input of edge 1\n",
    "edge1_len = float(input('Please enter edge1 length: '))\n",
    "edge2_len = float(input('Please enter edge2 length: '))\n",
    "max_len = 0\n",
    "min_len = 0\n",
    "\n",
    "\n",
    "# complete code below\n",
    "try:\n",
    "    min_len = abs(edge1_len - edge2_len) + 1 # abs() takes the absolute value since the length cannot be negative\n",
    "    max_len = abs(edge1_len + edge2_len) - 1\n",
    "    edge3_len = abs(min_len - max_len)\n",
    "    print('Range of length of edge3 is: ', edge3_len)\n",
    "except:\n",
    "    print('Please only enter numeric values!')"
   ]
  },
  {
   "cell_type": "code",
   "execution_count": 71,
   "metadata": {},
   "outputs": [
    {
     "name": "stdin",
     "output_type": "stream",
     "text": [
      "yo mama f\n"
     ]
    },
    {
     "name": "stdout",
     "output_type": "stream",
     "text": [
      "<class 'str'>\n"
     ]
    }
   ],
   "source": [
    "x = input(\"yo mama\")\n",
    "print(type(x))"
   ]
  },
  {
   "cell_type": "code",
   "execution_count": null,
   "metadata": {},
   "outputs": [],
   "source": []
  }
 ],
 "metadata": {
  "kernelspec": {
   "display_name": "Python 3",
   "language": "python",
   "name": "python3"
  },
  "language_info": {
   "codemirror_mode": {
    "name": "ipython",
    "version": 3
   },
   "file_extension": ".py",
   "mimetype": "text/x-python",
   "name": "python",
   "nbconvert_exporter": "python",
   "pygments_lexer": "ipython3",
   "version": "3.6.7"
  }
 },
 "nbformat": 4,
 "nbformat_minor": 2
}
